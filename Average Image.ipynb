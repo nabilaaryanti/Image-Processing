{
 "cells": [
  {
   "cell_type": "code",
   "execution_count": 33,
   "metadata": {},
   "outputs": [],
   "source": [
    "import os, numpy, PIL, sys\n",
    "from PIL import Image\n",
    "import matplotlib.pyplot as plt"
   ]
  },
  {
   "cell_type": "code",
   "execution_count": 20,
   "metadata": {},
   "outputs": [],
   "source": [
    "#resize all image\n",
    "path = \"/Users/DEBBY ROBIYANTI/Documents/0_0/semester 7/Pengolahan Citra Digital/Himawari/green/\"\n",
    "dirs = os.listdir( path )\n",
    "\n",
    "def resize():\n",
    "    for item in dirs:\n",
    "        if os.path.isfile(path+item):\n",
    "            im = Image.open(path+item)\n",
    "            f, e = os.path.splitext(path+item)\n",
    "            imResize = im.resize((750,500), Image.ANTIALIAS)\n",
    "            imResize.save(f + ' resized.png', 'JPEG', quality=90)\n",
    "\n",
    "resize()"
   ]
  },
  {
   "cell_type": "code",
   "execution_count": 37,
   "metadata": {},
   "outputs": [],
   "source": [
    "# Get Average of Image\n",
    "os.chdir('/Users/DEBBY ROBIYANTI/Documents/0_0/semester 7/Pengolahan Citra Digital/Himawari/green/')\n",
    "\n",
    "# Access all PNG files in directory\n",
    "allfiles=os.listdir(os.getcwd())\n",
    "imlist=[filename for filename in allfiles if  filename[-4:] in [\".png\",\".PNG\"]]\n",
    "\n",
    "# Assuming all images are the same size, get dimensions of first image\n",
    "w,h=Image.open(imlist[0]).size\n",
    "N=len(imlist)"
   ]
  },
  {
   "cell_type": "code",
   "execution_count": 38,
   "metadata": {},
   "outputs": [
    {
     "data": {
      "text/plain": [
       "['14 resized.png',\n",
       " '14.jpg',\n",
       " '15 resized.png',\n",
       " '15.jpg',\n",
       " '16 resized.png',\n",
       " '16.jpg',\n",
       " '17 resized.png',\n",
       " '17.jpg',\n",
       " '18 resized.png',\n",
       " '18.jpg']"
      ]
     },
     "execution_count": 38,
     "metadata": {},
     "output_type": "execute_result"
    }
   ],
   "source": [
    "allfiles"
   ]
  },
  {
   "cell_type": "code",
   "execution_count": 39,
   "metadata": {},
   "outputs": [
    {
     "data": {
      "text/plain": [
       "['14 resized.png',\n",
       " '15 resized.png',\n",
       " '16 resized.png',\n",
       " '17 resized.png',\n",
       " '18 resized.png']"
      ]
     },
     "execution_count": 39,
     "metadata": {},
     "output_type": "execute_result"
    }
   ],
   "source": [
    "imlist"
   ]
  },
  {
   "cell_type": "code",
   "execution_count": 40,
   "metadata": {},
   "outputs": [
    {
     "data": {
      "text/plain": [
       "750"
      ]
     },
     "execution_count": 40,
     "metadata": {},
     "output_type": "execute_result"
    }
   ],
   "source": [
    "w"
   ]
  },
  {
   "cell_type": "code",
   "execution_count": 41,
   "metadata": {},
   "outputs": [
    {
     "data": {
      "text/plain": [
       "500"
      ]
     },
     "execution_count": 41,
     "metadata": {},
     "output_type": "execute_result"
    }
   ],
   "source": [
    "h"
   ]
  },
  {
   "cell_type": "code",
   "execution_count": 42,
   "metadata": {},
   "outputs": [
    {
     "data": {
      "text/plain": [
       "array([[[0., 0., 0.],\n",
       "        [0., 0., 0.],\n",
       "        [0., 0., 0.],\n",
       "        ...,\n",
       "        [0., 0., 0.],\n",
       "        [0., 0., 0.],\n",
       "        [0., 0., 0.]],\n",
       "\n",
       "       [[0., 0., 0.],\n",
       "        [0., 0., 0.],\n",
       "        [0., 0., 0.],\n",
       "        ...,\n",
       "        [0., 0., 0.],\n",
       "        [0., 0., 0.],\n",
       "        [0., 0., 0.]],\n",
       "\n",
       "       [[0., 0., 0.],\n",
       "        [0., 0., 0.],\n",
       "        [0., 0., 0.],\n",
       "        ...,\n",
       "        [0., 0., 0.],\n",
       "        [0., 0., 0.],\n",
       "        [0., 0., 0.]],\n",
       "\n",
       "       ...,\n",
       "\n",
       "       [[0., 0., 0.],\n",
       "        [0., 0., 0.],\n",
       "        [0., 0., 0.],\n",
       "        ...,\n",
       "        [0., 0., 0.],\n",
       "        [0., 0., 0.],\n",
       "        [0., 0., 0.]],\n",
       "\n",
       "       [[0., 0., 0.],\n",
       "        [0., 0., 0.],\n",
       "        [0., 0., 0.],\n",
       "        ...,\n",
       "        [0., 0., 0.],\n",
       "        [0., 0., 0.],\n",
       "        [0., 0., 0.]],\n",
       "\n",
       "       [[0., 0., 0.],\n",
       "        [0., 0., 0.],\n",
       "        [0., 0., 0.],\n",
       "        ...,\n",
       "        [0., 0., 0.],\n",
       "        [0., 0., 0.],\n",
       "        [0., 0., 0.]]])"
      ]
     },
     "execution_count": 42,
     "metadata": {},
     "output_type": "execute_result"
    }
   ],
   "source": [
    "# Create a numpy array of floats to store the average (assume RGB images)\n",
    "arr=numpy.zeros((h,w,3),numpy.float)\n",
    "arr"
   ]
  },
  {
   "cell_type": "code",
   "execution_count": 43,
   "metadata": {},
   "outputs": [],
   "source": [
    "# Build up average pixel intensities, casting each image as an array of floats\n",
    "for im in imlist:\n",
    "    imarr=numpy.array(Image.open(im),dtype=numpy.float)\n",
    "    arr=arr+imarr/N"
   ]
  },
  {
   "cell_type": "code",
   "execution_count": 44,
   "metadata": {},
   "outputs": [
    {
     "data": {
      "text/plain": [
       "array([[[189, 189, 189],\n",
       "        [130, 130, 130],\n",
       "        [118, 118, 118],\n",
       "        ...,\n",
       "        [102, 102, 102],\n",
       "        [150, 151, 150],\n",
       "        [114, 115, 115]],\n",
       "\n",
       "       [[249, 249, 249],\n",
       "        [189, 189, 188],\n",
       "        [154, 153, 154],\n",
       "        ...,\n",
       "        [101, 101, 102],\n",
       "        [149, 150, 149],\n",
       "        [113, 114, 114]],\n",
       "\n",
       "       [[171, 171, 171],\n",
       "        [102, 102, 102],\n",
       "        [ 54,  53,  54],\n",
       "        ...,\n",
       "        [  3,   3,   3],\n",
       "        [ 51,  51,  51],\n",
       "        [ 15,  16,  16]],\n",
       "\n",
       "       ...,\n",
       "\n",
       "       [[203, 203, 203],\n",
       "        [102, 102, 102],\n",
       "        [ 52,  52,  52],\n",
       "        ...,\n",
       "        [  4,  42,  34],\n",
       "        [ 53,  88,  82],\n",
       "        [ 21,  55,  49]],\n",
       "\n",
       "       [[201, 201, 201],\n",
       "        [101, 101, 101],\n",
       "        [ 52,  52,  52],\n",
       "        ...,\n",
       "        [  7,  44,  38],\n",
       "        [ 43,  78,  72],\n",
       "        [ 19,  53,  48]],\n",
       "\n",
       "       [[204, 204, 204],\n",
       "        [105, 105, 105],\n",
       "        [ 59,  59,  59],\n",
       "        ...,\n",
       "        [  9,  45,  39],\n",
       "        [ 22,  57,  51],\n",
       "        [  6,  40,  35]]], dtype=uint8)"
      ]
     },
     "execution_count": 44,
     "metadata": {},
     "output_type": "execute_result"
    }
   ],
   "source": [
    "# Round values in array and cast as 8-bit integer\n",
    "arr=numpy.array(numpy.round(arr),dtype=numpy.uint8)\n",
    "arr"
   ]
  },
  {
   "cell_type": "code",
   "execution_count": 45,
   "metadata": {},
   "outputs": [],
   "source": [
    "# Generate, save and preview final image\n",
    "out=Image.fromarray(arr,mode=\"RGB\")\n",
    "out.save(\"Average.png\")\n",
    "out.show()"
   ]
  },
  {
   "cell_type": "code",
   "execution_count": null,
   "metadata": {},
   "outputs": [],
   "source": []
  }
 ],
 "metadata": {
  "kernelspec": {
   "display_name": "Python 3",
   "language": "python",
   "name": "python3"
  },
  "language_info": {
   "codemirror_mode": {
    "name": "ipython",
    "version": 3
   },
   "file_extension": ".py",
   "mimetype": "text/x-python",
   "name": "python",
   "nbconvert_exporter": "python",
   "pygments_lexer": "ipython3",
   "version": "3.7.6"
  }
 },
 "nbformat": 4,
 "nbformat_minor": 4
}
